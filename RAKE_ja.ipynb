{
  "nbformat": 4,
  "nbformat_minor": 0,
  "metadata": {
    "colab": {
      "name": "RAKE_ja.ipynb",
      "provenance": [],
      "collapsed_sections": [],
      "authorship_tag": "ABX9TyNdu36RAzMVMjDHx1ZOvSIR",
      "include_colab_link": true
    },
    "kernelspec": {
      "name": "python3",
      "display_name": "Python 3"
    },
    "language_info": {
      "name": "python"
    }
  },
  "cells": [
    {
      "cell_type": "markdown",
      "metadata": {
        "id": "view-in-github",
        "colab_type": "text"
      },
      "source": [
        "<a href=\"https://colab.research.google.com/github/Subhutii/GRIT-AI/blob/main/RAKE_ja.ipynb\" target=\"_parent\"><img src=\"https://colab.research.google.com/assets/colab-badge.svg\" alt=\"Open In Colab\"/></a>"
      ]
    },
    {
      "cell_type": "markdown",
      "source": [
        "RAKE　日本語版"
      ],
      "metadata": {
        "id": "XxbvYlr4axwt"
      }
    },
    {
      "cell_type": "code",
      "execution_count": null,
      "metadata": {
        "id": "oLkrn0olaw3L"
      },
      "outputs": [],
      "source": [
        "!pip install git+https://github.com/kanjirz50/rake-ja.git"
      ]
    },
    {
      "cell_type": "code",
      "source": [
        "!cd rake-ja\n",
        "!python setup.py install"
      ],
      "metadata": {
        "colab": {
          "base_uri": "https://localhost:8080/"
        },
        "id": "UDfzujpOa4D-",
        "outputId": "87bc766a-e1d3-4d32-9345-d37948af2699"
      },
      "execution_count": null,
      "outputs": [
        {
          "output_type": "stream",
          "name": "stdout",
          "text": [
            "/bin/bash: line 0: cd: rake-ja: No such file or directory\n",
            "python3: can't open file 'setup.py': [Errno 2] No such file or directory\n"
          ]
        }
      ]
    },
    {
      "cell_type": "code",
      "source": [
        "!pip install mecab-python3\n",
        "!pip install unidic-lite"
      ],
      "metadata": {
        "id": "i7d2HERodw02"
      },
      "execution_count": null,
      "outputs": []
    },
    {
      "cell_type": "code",
      "source": [
        "from rake_ja import JapaneseRake, Tokenizer\n",
        "tok = Tokenizer()\n",
        "ja_rake = JapaneseRake(min_length=2)\n",
        "\n",
        "\n",
        "# テキスト取得\n",
        "with open(\"text_ja.txt\", \"r\") as file:\n",
        "    data = file.read().replace(\"\\n\", \"\")\n",
        "article = data.replace(u\"\\xa0\", u\" \")\n",
        "\n",
        "tokens = tok.tokenize(article)\n",
        "ja_rake.extract_keywords_from_text(tokens)\n",
        "ja_rake.get_ranked_phrases()\n",
        "# ja_rake.get_ranked_phrases_with_scores()"
      ],
      "metadata": {
        "colab": {
          "base_uri": "https://localhost:8080/"
        },
        "id": "H_E-dTz6bCDR",
        "outputId": "a5979953-f1f5-4779-956c-8128cf38b5be"
      },
      "execution_count": null,
      "outputs": [
        {
          "output_type": "execute_result",
          "data": {
            "text/plain": [
              "['富士 山 本宮 浅間 大社',\n",
              " '6 時 半 5 合',\n",
              " '上着 厚薄 2 着',\n",
              " '4 時間 30 分',\n",
              " '吉田 ルート 5 合',\n",
              " '30 年 以上',\n",
              " '富士 急行 バス',\n",
              " '富士 山 パーキング',\n",
              " '自動 販売 機',\n",
              " '持ち主 徳川 家康',\n",
              " 'スポーツ ドリンク 2',\n",
              " 'ジュース 150 円',\n",
              " '6 合',\n",
              " '富士 山',\n",
              " '5 合',\n",
              " '5 L',\n",
              " '山 小屋',\n",
              " 'おにぎり 4',\n",
              " '9 合',\n",
              " '7 合',\n",
              " 'パン 2',\n",
              " '2 L',\n",
              " '500 円',\n",
              " '300 円',\n",
              " '200 円',\n",
              " '頂上 付近',\n",
              " '防寒 対策',\n",
              " '鉢 めぐり',\n",
              " '私有 地',\n",
              " '日本 一',\n",
              " '富士宮 市',\n",
              " '存在 感',\n",
              " '冬 化粧',\n",
              " '一 度',\n",
              " 'ランニング シューズ',\n",
              " 'ウェア 着用',\n",
              " '360 ℃',\n",
              " '10 度']"
            ]
          },
          "metadata": {},
          "execution_count": 9
        }
      ]
    },
    {
      "cell_type": "code",
      "source": [],
      "metadata": {
        "id": "6cugrSjgbbpU"
      },
      "execution_count": null,
      "outputs": []
    }
  ]
}