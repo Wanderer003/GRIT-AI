{
 "cells": [
  {
   "cell_type": "code",
   "execution_count": 2,
   "metadata": {},
   "outputs": [],
   "source": [
    "import pandas as pd"
   ]
  },
  {
   "cell_type": "code",
   "execution_count": 3,
   "metadata": {},
   "outputs": [],
   "source": [
    "data = pd.read_csv(\"アメリカ.xlsx - Sheet1.csv\")"
   ]
  },
  {
   "cell_type": "code",
   "execution_count": 11,
   "metadata": {},
   "outputs": [],
   "source": [
    "df = pd.DataFrame(data)\n",
    "df = df.replace( '\\n', '', regex=True)"
   ]
  },
  {
   "cell_type": "code",
   "execution_count": 12,
   "metadata": {},
   "outputs": [
    {
     "data": {
      "text/html": [
       "<div>\n",
       "<style scoped>\n",
       "    .dataframe tbody tr th:only-of-type {\n",
       "        vertical-align: middle;\n",
       "    }\n",
       "\n",
       "    .dataframe tbody tr th {\n",
       "        vertical-align: top;\n",
       "    }\n",
       "\n",
       "    .dataframe thead th {\n",
       "        text-align: right;\n",
       "    }\n",
       "</style>\n",
       "<table border=\"1\" class=\"dataframe\">\n",
       "  <thead>\n",
       "    <tr style=\"text-align: right;\">\n",
       "      <th></th>\n",
       "      <th>Title</th>\n",
       "      <th>cities</th>\n",
       "      <th>categories</th>\n",
       "      <th>Question</th>\n",
       "    </tr>\n",
       "  </thead>\n",
       "  <tbody>\n",
       "    <tr>\n",
       "      <th>0</th>\n",
       "      <td>PCR検査</td>\n",
       "      <td>ロサンゼルス</td>\n",
       "      <td>医療</td>\n",
       "      <td>はじめまして。 LAXの空港から1時間以内で日本帰国のためのPCR検査できるところを探してい...</td>\n",
       "    </tr>\n",
       "    <tr>\n",
       "      <th>1</th>\n",
       "      <td>デトロイトからウィンザーの行き方を教えてください</td>\n",
       "      <td>デトロイト</td>\n",
       "      <td>観光・レジャー</td>\n",
       "      <td>９月にデトロイトへの旅行を計画しています。２週間のうち３泊程度時間をとってトロントを訪れよう...</td>\n",
       "    </tr>\n",
       "    <tr>\n",
       "      <th>2</th>\n",
       "      <td>ニューヨークでの生活費について</td>\n",
       "      <td>ニューヨーク</td>\n",
       "      <td>生活</td>\n",
       "      <td>ニューヨークにお住まいの方にお聞きしたいのですが、主人がコロナ禍よりニューヨークへ単身赴任し...</td>\n",
       "    </tr>\n",
       "    <tr>\n",
       "      <th>3</th>\n",
       "      <td>クレジットスコアがない状態での賃貸契約</td>\n",
       "      <td>ダラス</td>\n",
       "      <td>住居</td>\n",
       "      <td>来年ダラス移住を考えており、賃貸に関してご質問です。パートナーはアメリカ国籍を保持する日本在...</td>\n",
       "    </tr>\n",
       "    <tr>\n",
       "      <th>4</th>\n",
       "      <td>サムライ寿司</td>\n",
       "      <td>ニュージャージ</td>\n",
       "      <td>スポーツ</td>\n",
       "      <td>40代男性ジャパニーズアメリカンです。 運動不足の為、一緒に軽くスポーツできる相手（男性）を...</td>\n",
       "    </tr>\n",
       "    <tr>\n",
       "      <th>...</th>\n",
       "      <td>...</td>\n",
       "      <td>...</td>\n",
       "      <td>...</td>\n",
       "      <td>...</td>\n",
       "    </tr>\n",
       "    <tr>\n",
       "      <th>705</th>\n",
       "      <td>職探しに有効な方法を探しています。</td>\n",
       "      <td>シアトル</td>\n",
       "      <td>仕事</td>\n",
       "      <td>最近、コロラド州から、シアトルへ引っ越してきました。職を探し中です。シアトルへ来てから、職の...</td>\n",
       "    </tr>\n",
       "    <tr>\n",
       "      <th>706</th>\n",
       "      <td>美味しいてんぷらを出すレストランを教えてください</td>\n",
       "      <td>シアトル</td>\n",
       "      <td>グルメ</td>\n",
       "      <td>日本の美味しい本当のてんぷらを食べたいです。多くのアジアンレストランや和食レストランでは、既...</td>\n",
       "    </tr>\n",
       "    <tr>\n",
       "      <th>707</th>\n",
       "      <td>ラスベガスの水事情について</td>\n",
       "      <td>ラスベガス</td>\n",
       "      <td>生活</td>\n",
       "      <td>ラスベガスで生活されている方に質問させていただきたいのですが、ラスベガスでの一世帯辺りの水道...</td>\n",
       "    </tr>\n",
       "    <tr>\n",
       "      <th>708</th>\n",
       "      <td>お絵かきソフトの使い方を教えてくださる方を探しています。</td>\n",
       "      <td>ポートランド</td>\n",
       "      <td>パソコンスキル</td>\n",
       "      <td>フォトショップやイラストレーターなど、高価なソフトウエアを購入せずにお絵かきソフトを基本から...</td>\n",
       "    </tr>\n",
       "    <tr>\n",
       "      <th>709</th>\n",
       "      <td>日本人はすべての力を使い韓国のプロパガンダと戦うべき</td>\n",
       "      <td>シアトル</td>\n",
       "      <td>政治・時事</td>\n",
       "      <td>日本人はすべての力を使い韓国のプロパガンダと戦うべき、世界に真実を発信を―前駐日イスラエル大...</td>\n",
       "    </tr>\n",
       "  </tbody>\n",
       "</table>\n",
       "<p>710 rows × 4 columns</p>\n",
       "</div>"
      ],
      "text/plain": [
       "                            Title   cities categories  \\\n",
       "0                           PCR検査   ロサンゼルス         医療   \n",
       "1        デトロイトからウィンザーの行き方を教えてください    デトロイト    観光・レジャー   \n",
       "2                 ニューヨークでの生活費について   ニューヨーク         生活   \n",
       "3             クレジットスコアがない状態での賃貸契約      ダラス         住居   \n",
       "4                          サムライ寿司  ニュージャージ       スポーツ   \n",
       "..                            ...      ...        ...   \n",
       "705             職探しに有効な方法を探しています。     シアトル         仕事   \n",
       "706      美味しいてんぷらを出すレストランを教えてください     シアトル        グルメ   \n",
       "707                 ラスベガスの水事情について    ラスベガス         生活   \n",
       "708  お絵かきソフトの使い方を教えてくださる方を探しています。   ポートランド    パソコンスキル   \n",
       "709    日本人はすべての力を使い韓国のプロパガンダと戦うべき     シアトル      政治・時事   \n",
       "\n",
       "                                              Question  \n",
       "0    はじめまして。 LAXの空港から1時間以内で日本帰国のためのPCR検査できるところを探してい...  \n",
       "1    ９月にデトロイトへの旅行を計画しています。２週間のうち３泊程度時間をとってトロントを訪れよう...  \n",
       "2    ニューヨークにお住まいの方にお聞きしたいのですが、主人がコロナ禍よりニューヨークへ単身赴任し...  \n",
       "3    来年ダラス移住を考えており、賃貸に関してご質問です。パートナーはアメリカ国籍を保持する日本在...  \n",
       "4    40代男性ジャパニーズアメリカンです。 運動不足の為、一緒に軽くスポーツできる相手（男性）を...  \n",
       "..                                                 ...  \n",
       "705  最近、コロラド州から、シアトルへ引っ越してきました。職を探し中です。シアトルへ来てから、職の...  \n",
       "706  日本の美味しい本当のてんぷらを食べたいです。多くのアジアンレストランや和食レストランでは、既...  \n",
       "707  ラスベガスで生活されている方に質問させていただきたいのですが、ラスベガスでの一世帯辺りの水道...  \n",
       "708  フォトショップやイラストレーターなど、高価なソフトウエアを購入せずにお絵かきソフトを基本から...  \n",
       "709  日本人はすべての力を使い韓国のプロパガンダと戦うべき、世界に真実を発信を―前駐日イスラエル大...  \n",
       "\n",
       "[710 rows x 4 columns]"
      ]
     },
     "execution_count": 12,
     "metadata": {},
     "output_type": "execute_result"
    }
   ],
   "source": [
    "df.drop(columns=[\"Unnamed: 1\", \"Unnamed: 2\", \"Unnamed: 3\"])"
   ]
  },
  {
   "cell_type": "code",
   "execution_count": null,
   "metadata": {},
   "outputs": [],
   "source": [
    "df.to_csv(\"output.csv\")"
   ]
  }
 ],
 "metadata": {
  "kernelspec": {
   "display_name": "Python 3.10.4 64-bit ('3.10.4')",
   "language": "python",
   "name": "python3"
  },
  "language_info": {
   "codemirror_mode": {
    "name": "ipython",
    "version": 3
   },
   "file_extension": ".py",
   "mimetype": "text/x-python",
   "name": "python",
   "nbconvert_exporter": "python",
   "pygments_lexer": "ipython3",
   "version": "3.10.4"
  },
  "orig_nbformat": 4,
  "vscode": {
   "interpreter": {
    "hash": "fe703a900848105ac57fabab90389b0adf0c9dc3ff008863028f68dd74fc23a4"
   }
  }
 },
 "nbformat": 4,
 "nbformat_minor": 2
}
