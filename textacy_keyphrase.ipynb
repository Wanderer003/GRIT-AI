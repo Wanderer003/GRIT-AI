from typing import List, Tuple
import numpy as np
import nltk
import string
from nltk.corpus import stopwords
from textacy import extract, make_spacy_doc



#extract後の可視化
def decompose_keyterms(keyterm_list: List[str]) -> Tuple:
    terms = [el[0].replace("\n", " ") for el in keyterm_list]
    scores = np.asarray([el[1] for el in keyterm_list])
    return terms, scores


# テキスト取得
with open("text.txt", "r") as file:
    data = file.read().replace("\n", "")
article = data.replace(u"\xa0", u" ") # ノンブレイキングスペース削除


# ストップワード抜く
def preprocess(text):
    text = text.lower()
    text = nltk.word_tokenize(text)

    # アルファベットと数字だけ抽出
    alnum_list = []
    for i in text:
        if i.isalnum():
            alnum_list.append(i)

    # textに再代入
    text = alnum_list[:]
    alnum_list.clear()

    for i in text:
        if i not in stopwords.words('english') and i not in string.punctuation:
            alnum_list.append(i)
    return " ".join(alnum_list)



# トークン化
def create_doc(article):
    texts = article.split(',')
    article_1 = ""
    for text in texts:
        article_1 += preprocess(text)+","

    doc = make_spacy_doc(article_1, lang="en_core_web_sm")
    return doc

#textrank
def textrank_algo(doc):
    textrank = extract.keyterms.textrank(doc, normalize="lemma")
    terms_textrank, scores_textrank = decompose_keyterms(textrank)

    return terms_textrank, scores_textrank

#yake
def yake_algo(doc):
    yake = extract.keyterms.yake(doc, normalize="lemma")
    terms_yake, scores_yake = decompose_keyterms(yake)

    return terms_yake, scores_yake

#scake
def scake_algo(doc):
    scake = extract.keyterms.scake(doc, normalize="lemma")
    terms_scake, scores_scake = decompose_keyterms(scake)

    return terms_scake, scores_scake

#sgrank
def sgrank_algo(doc):
    sgrank = extract.keyterms.sgrank(doc, normalize="lemma")
    terms_sgrank, scores_sgrank = decompose_keyterms(sgrank)
    return terms_sgrank, scores_sgrank

#呼び出し
def main(article):
    text = preprocess(article)
    doc = create_doc(text)

    terms_textrank, score_textrank = textrank_algo(doc)
    terms_yake, score_yake = yake_algo(doc)
    terms_scake, score_scake = scake_algo(doc)
    terms_sgrank, scores_sgrank = sgrank_algo(doc)

    print("textrank", terms_textrank)
    print("yake", terms_yake)
    print("scake", terms_scake)
    print("sgrank", terms_sgrank)


main(article)
