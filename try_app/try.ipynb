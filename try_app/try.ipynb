{
 "cells": [
  {
   "cell_type": "code",
   "execution_count": 39,
   "metadata": {},
   "outputs": [],
   "source": [
    "import csv\n",
    "import pandas as pd\n",
    "\n",
    "data = pd.read_csv(\"data.csv\")"
   ]
  },
  {
   "cell_type": "code",
   "execution_count": 40,
   "metadata": {},
   "outputs": [
    {
     "data": {
      "text/html": [
       "<div>\n",
       "<style scoped>\n",
       "    .dataframe tbody tr th:only-of-type {\n",
       "        vertical-align: middle;\n",
       "    }\n",
       "\n",
       "    .dataframe tbody tr th {\n",
       "        vertical-align: top;\n",
       "    }\n",
       "\n",
       "    .dataframe thead th {\n",
       "        text-align: right;\n",
       "    }\n",
       "</style>\n",
       "<table border=\"1\" class=\"dataframe\">\n",
       "  <thead>\n",
       "    <tr style=\"text-align: right;\">\n",
       "      <th></th>\n",
       "      <th>Country</th>\n",
       "      <th>City</th>\n",
       "      <th>Title</th>\n",
       "      <th>Text</th>\n",
       "      <th>Unnamed: 4</th>\n",
       "    </tr>\n",
       "  </thead>\n",
       "  <tbody>\n",
       "    <tr>\n",
       "      <th>0</th>\n",
       "      <td>アラブ首長国連邦</td>\n",
       "      <td>ドバイ</td>\n",
       "      <td>Emirates IDについて</td>\n",
       "      <td>はじめまして。ドバイ赴任に関して、二つ質問があります。①Emirates IDは就労VIS...</td>\n",
       "      <td>NaN</td>\n",
       "    </tr>\n",
       "    <tr>\n",
       "      <th>1</th>\n",
       "      <td>アラブ首長国連邦</td>\n",
       "      <td>ドバイ</td>\n",
       "      <td>はじめまして。 ドバイ在住の日本の方で観光ガイドをして...</td>\n",
       "      <td>はじめまして。ドバイ在住の日本の方で観光ガイドをしていただける方を探しています。教えてくだ...</td>\n",
       "      <td>NaN</td>\n",
       "    </tr>\n",
       "    <tr>\n",
       "      <th>2</th>\n",
       "      <td>アラブ首長国連邦</td>\n",
       "      <td>ドバイ</td>\n",
       "      <td>着物・浴衣の着用機会はありますか？</td>\n",
       "      <td>こんにちは。夫の赴任に伴い、７月渡航予定で引越し荷物を準備している者です。ドバイに行くにあ...</td>\n",
       "      <td>NaN</td>\n",
       "    </tr>\n",
       "    <tr>\n",
       "      <th>3</th>\n",
       "      <td>アラブ首長国連邦</td>\n",
       "      <td>ドバイ</td>\n",
       "      <td>ドバイでの免許切り替えの仕方</td>\n",
       "      <td>ドバイで免許の切り替えをしようとしています、在ドバイ日本国総領事館で免許証の翻訳を貰い、視...</td>\n",
       "      <td>NaN</td>\n",
       "    </tr>\n",
       "    <tr>\n",
       "      <th>4</th>\n",
       "      <td>イギリス</td>\n",
       "      <td>エジンバラ</td>\n",
       "      <td>2021以降のNIナンバー取得について</td>\n",
       "      <td>NIナンバー取得について質問です。2021年10月に渡英してきた者ですが、11月中旬頃にN...</td>\n",
       "      <td></td>\n",
       "    </tr>\n",
       "    <tr>\n",
       "      <th>5</th>\n",
       "      <td>イギリス</td>\n",
       "      <td>エジンバラ</td>\n",
       "      <td>運転免許の書き換えについて</td>\n",
       "      <td>こんにちわ。イギリス在住のものです。今年免許の更新なんですが帰国できないので、こっちの免許...</td>\n",
       "      <td></td>\n",
       "    </tr>\n",
       "    <tr>\n",
       "      <th>6</th>\n",
       "      <td>イギリス</td>\n",
       "      <td>エジンバラ</td>\n",
       "      <td>BRPのパスポート番号変更届について教えてください</td>\n",
       "      <td>先日大使館でパスポートを更新したのですが、BRPのパスポート情報も変更するにはどうしたらい...</td>\n",
       "      <td>NaN</td>\n",
       "    </tr>\n",
       "  </tbody>\n",
       "</table>\n",
       "</div>"
      ],
      "text/plain": [
       "    Country    City                            Title  \\\n",
       "0  アラブ首長国連邦     ドバイ                  Emirates IDについて   \n",
       "1  アラブ首長国連邦     ドバイ   はじめまして。 ドバイ在住の日本の方で観光ガイドをして...   \n",
       "2  アラブ首長国連邦     ドバイ                着物・浴衣の着用機会はありますか？   \n",
       "3  アラブ首長国連邦     ドバイ                   ドバイでの免許切り替えの仕方   \n",
       "4      イギリス   エジンバラ              2021以降のNIナンバー取得について   \n",
       "5      イギリス   エジンバラ                    運転免許の書き換えについて   \n",
       "6      イギリス   エジンバラ        BRPのパスポート番号変更届について教えてください   \n",
       "\n",
       "                                                Text Unnamed: 4  \n",
       "0   はじめまして。ドバイ赴任に関して、二つ質問があります。①Emirates IDは就労VIS...        NaN  \n",
       "1   はじめまして。ドバイ在住の日本の方で観光ガイドをしていただける方を探しています。教えてくだ...        NaN  \n",
       "2   こんにちは。夫の赴任に伴い、７月渡航予定で引越し荷物を準備している者です。ドバイに行くにあ...        NaN  \n",
       "3   ドバイで免許の切り替えをしようとしています、在ドバイ日本国総領事館で免許証の翻訳を貰い、視...        NaN  \n",
       "4   NIナンバー取得について質問です。2021年10月に渡英してきた者ですが、11月中旬頃にN...             \n",
       "5   こんにちわ。イギリス在住のものです。今年免許の更新なんですが帰国できないので、こっちの免許...             \n",
       "6   先日大使館でパスポートを更新したのですが、BRPのパスポート情報も変更するにはどうしたらい...        NaN  "
      ]
     },
     "execution_count": 40,
     "metadata": {},
     "output_type": "execute_result"
    }
   ],
   "source": [
    "data"
   ]
  },
  {
   "cell_type": "code",
   "execution_count": 41,
   "metadata": {},
   "outputs": [
    {
     "data": {
      "text/plain": [
       "' はじめまして。ドバイ在住の日本の方で観光ガイドをしていただける方を探しています。教えてください。宜しくお願いします。'"
      ]
     },
     "execution_count": 41,
     "metadata": {},
     "output_type": "execute_result"
    }
   ],
   "source": [
    "data.iloc[1, 3]\n"
   ]
  },
  {
   "cell_type": "code",
   "execution_count": 42,
   "metadata": {},
   "outputs": [
    {
     "name": "stdout",
     "output_type": "stream",
     "text": [
      " はじめまして。ドバイ赴任に関して、二つ質問があります。①Emirates IDは就労VISA取得前に申請できますか？、②Emirates IDがないと家探しや学校探しは始められませんか？　よろしくご教示ください！ はじめまして。ドバイ在住の日本の方で観光ガイドをしていただける方を探しています。教えてください。宜しくお願いします。 こんにちは。夫の赴任に伴い、７月渡航予定で引越し荷物を準備している者です。ドバイに行くにあたり、着物や浴衣は持って行った方が良いでしょうか？着物はドバイの気候から持って行くのを躊躇しております。浴衣なら・・と思っておりますが、着用する機会はありますでしょうか？５年位は滞在する予定です。宜しくお願いいたします。 ドバイで免許の切り替えをしようとしています、在ドバイ日本国総領事館で免許証の翻訳を貰い、視力検査した後にカスタマーハピネスセンターに行って免許の切り替えと日本人の記事で読んだのですが英語版のカスタマーハピネスセンターのHPを見たところ、デジタル化に向けて窓口受付を廃止したと書いてありまして、少し困っています。どなたかドバイで免許の切り替えの仕方などを教えていただけませんか。 NIナンバー取得について質問です。2021年10月に渡英してきた者ですが、11月中旬頃にNIナンバーの申請書類をスペシャルデリバリーで送り、今まで待ち続けてていたのですが、一向にメールもレターも届かず心配していました。しかし、いつの間にか勤め先の自分のオンラインデータにNIナンバーが記載されており、確認のため政府サイトのTax情報のページを開いたら、ちゃっかりpdfのNIナンバーレターが載っていました。本来の手順であればNIナンバー未取得のまま仕事を始めた場合は、取得後自ら勤め先に報告するものだと思いますが、この様に勤め先が先に知ることは起こり得るのでしょうか？ちなみに担当機関に問合せしても全く繋がらず、このまま手紙も来ないままであれば、かなりモヤモヤするのでどなたか同じ様な経験のある方や、事情に詳しい方いましたら回答願います。宜しくお願いします。\n",
      " Emirates IDについて はじめまして。 ドバイ在住の日本の方で観光ガイドをして... 着物・浴衣の着用機会はありますか？ ドバイでの免許切り替えの仕方 2021以降のNIナンバー取得について\n"
     ]
    }
   ],
   "source": [
    "data_text = \"\"\n",
    "\n",
    "for i in range(5):\n",
    "    text = data.iloc[i, 3]\n",
    "    data_text = data_text + text.replace(u\"\\xa0\", u\" \").replace(\"\\n\", \"\")\n",
    "\n",
    "data_text\n",
    "\n",
    "data_title = \"\"\n",
    "\n",
    "for i in range(5):\n",
    "    title = data.iloc[i, 2]\n",
    "    data_title = data_title + title.replace(u\"\\xa0\", u\" \").replace(\"\\n\", \"\")\n",
    "\n",
    "print(data_text)\n",
    "print(data_title)"
   ]
  },
  {
   "cell_type": "code",
   "execution_count": 43,
   "metadata": {},
   "outputs": [
    {
     "data": {
      "text/plain": [
       "['ドバイ在住の日本の方で観光ガイドをして', 'ドバイでの免許切り替えの仕方 2021以降のniナンバー取得について']"
      ]
     },
     "execution_count": 43,
     "metadata": {},
     "output_type": "execute_result"
    }
   ],
   "source": [
    "import pke\n",
    "from pke.unsupervised import MultipartiteRank, PositionRank\n",
    "#MultipartiteRank\n",
    "extractor_for_multi = pke.unsupervised.MultipartiteRank()\n",
    "extractor_for_multi.load_document(input=data_title, language='en')\n",
    "extractor_for_multi.candidate_selection()\n",
    "extractor_for_multi.candidate_weighting()\n",
    "keyphrases_multi = extractor_for_multi.get_n_best(n=15)\n",
    "\n",
    "keyphrases_multi\n",
    "multi_list =[]\n",
    "\n",
    "for keyphrase in keyphrases_multi:\n",
    "    multi_list.append(keyphrase[0])\n",
    "multi_list"
   ]
  },
  {
   "cell_type": "code",
   "execution_count": 50,
   "metadata": {},
   "outputs": [
    {
     "data": {
      "text/plain": [
       "['着物・浴衣の着用機会はありますか',\n",
       " 'ドバイでの免許切り替えの仕方',\n",
       " '2021以降のniナンバー取得について',\n",
       " 'ドバイ在住の日本の方で観光ガイドをして']"
      ]
     },
     "execution_count": 50,
     "metadata": {},
     "output_type": "execute_result"
    }
   ],
   "source": [
    "extractor_for_posi = pke.unsupervised.PositionRank()\n",
    "extractor_for_posi.load_document(input=data_title, language='en')\n",
    "extractor_for_posi.candidate_selection()\n",
    "extractor_for_posi.candidate_weighting()\n",
    "keyphrases_posi = extractor_for_posi.get_n_best(n=15)\n",
    "\n",
    "posi_list = []\n",
    "\n",
    "for keyphrase in keyphrases_posi:\n",
    "\n",
    "    try: \n",
    "        keyphrase_splits = keyphrase[0].split(\" \")\n",
    "        for keyphrase_split in keyphrase_splits:\n",
    "            organnised_keyphrase = keyphrase_split.replace(\"、\", \"\").replace(\"。\", \"\").replace(\"「\", \"\").replace(\"」\", \"\").replace(\"？\", \"\").replace(\"！\", \"\")\n",
    "            \n",
    "            if organnised_keyphrase != \"\":\n",
    "                posi_list.append(organnised_keyphrase)\n",
    "    except:\n",
    "        organnised_keyphrase = keyphrase[0].replace(\"、\", \"\").replace(\"。\", \"\").replace(\"「\", \"\").replace(\"」\", \"\").replace(\"？\", \"\").replace(\"！\", \"\")\n",
    "        posi_list.append(organnised_keyphrase)\n",
    "\n",
    "posi_list"
   ]
  },
  {
   "cell_type": "code",
   "execution_count": 51,
   "metadata": {},
   "outputs": [
    {
     "data": {
      "text/plain": [
       "['着物・浴衣の着用機会はありますか',\n",
       " 'ドバイでの免許切り替えの仕方',\n",
       " '2021以降のniナンバー取得について',\n",
       " 'ドバイ在住の日本の方で観光ガイドをして']"
      ]
     },
     "execution_count": 51,
     "metadata": {},
     "output_type": "execute_result"
    }
   ],
   "source": [
    "posi_list\n",
    "        "
   ]
  },
  {
   "cell_type": "code",
   "execution_count": 52,
   "metadata": {},
   "outputs": [
    {
     "data": {
      "text/plain": [
       "['',\n",
       " 'Emirates',\n",
       " 'IDについて',\n",
       " 'はじめまして。',\n",
       " 'ドバイ在住の日本の方で観光ガイドをして...',\n",
       " '着物・浴衣の着用機会はありますか？',\n",
       " 'ドバイでの免許切り替えの仕方',\n",
       " '2021以降のNIナンバー取得について']"
      ]
     },
     "execution_count": 52,
     "metadata": {},
     "output_type": "execute_result"
    }
   ],
   "source": [
    "data_title_split=data_title.split(\" \")\n",
    "data_title_split"
   ]
  },
  {
   "cell_type": "code",
   "execution_count": 82,
   "metadata": {},
   "outputs": [
    {
     "name": "stdout",
     "output_type": "stream",
     "text": [
      "2\n"
     ]
    },
    {
     "data": {
      "text/html": [
       "<div>\n",
       "<style scoped>\n",
       "    .dataframe tbody tr th:only-of-type {\n",
       "        vertical-align: middle;\n",
       "    }\n",
       "\n",
       "    .dataframe tbody tr th {\n",
       "        vertical-align: top;\n",
       "    }\n",
       "\n",
       "    .dataframe thead th {\n",
       "        text-align: right;\n",
       "    }\n",
       "</style>\n",
       "<table border=\"1\" class=\"dataframe\">\n",
       "  <thead>\n",
       "    <tr style=\"text-align: right;\">\n",
       "      <th></th>\n",
       "      <th>Country</th>\n",
       "      <th>City</th>\n",
       "      <th>Title</th>\n",
       "      <th>Text</th>\n",
       "      <th>Unnamed: 4</th>\n",
       "    </tr>\n",
       "  </thead>\n",
       "  <tbody>\n",
       "    <tr>\n",
       "      <th>2</th>\n",
       "      <td>アラブ首長国連邦</td>\n",
       "      <td>ドバイ</td>\n",
       "      <td>着物・浴衣の着用機会はありますか？</td>\n",
       "      <td>こんにちは。夫の赴任に伴い、７月渡航予定で引越し荷物を準備している者です。ドバイに行くにあ...</td>\n",
       "      <td>NaN</td>\n",
       "    </tr>\n",
       "    <tr>\n",
       "      <th>3</th>\n",
       "      <td>アラブ首長国連邦</td>\n",
       "      <td>ドバイ</td>\n",
       "      <td>ドバイでの免許切り替えの仕方</td>\n",
       "      <td>ドバイで免許の切り替えをしようとしています、在ドバイ日本国総領事館で免許証の翻訳を貰い、視...</td>\n",
       "      <td>NaN</td>\n",
       "    </tr>\n",
       "  </tbody>\n",
       "</table>\n",
       "</div>"
      ],
      "text/plain": [
       "    Country  City               Title  \\\n",
       "2  アラブ首長国連邦   ドバイ   着物・浴衣の着用機会はありますか？   \n",
       "3  アラブ首長国連邦   ドバイ      ドバイでの免許切り替えの仕方   \n",
       "\n",
       "                                                Text Unnamed: 4  \n",
       "2   こんにちは。夫の赴任に伴い、７月渡航予定で引越し荷物を準備している者です。ドバイに行くにあ...        NaN  \n",
       "3   ドバイで免許の切り替えをしようとしています、在ドバイ日本国総領事館で免許証の翻訳を貰い、視...        NaN  "
      ]
     },
     "execution_count": 82,
     "metadata": {},
     "output_type": "execute_result"
    }
   ],
   "source": [
    "num_keyphrase = []\n",
    "for i in range(len(data[\" Title\"])):\n",
    "    if data[\" Title\"].str.contains(\"着物・浴衣の着用機会はありますか\")[i] == True:\n",
    "        print(i)\n",
    "        num_keyphrase.append(i)\n",
    "\n"
   ]
  },
  {
   "cell_type": "code",
   "execution_count": null,
   "metadata": {},
   "outputs": [],
   "source": []
  }
 ],
 "metadata": {
  "kernelspec": {
   "display_name": "Python 3.10.4 64-bit ('3.10.4')",
   "language": "python",
   "name": "python3"
  },
  "language_info": {
   "codemirror_mode": {
    "name": "ipython",
    "version": 3
   },
   "file_extension": ".py",
   "mimetype": "text/x-python",
   "name": "python",
   "nbconvert_exporter": "python",
   "pygments_lexer": "ipython3",
   "version": "3.10.4"
  },
  "orig_nbformat": 4,
  "vscode": {
   "interpreter": {
    "hash": "fe703a900848105ac57fabab90389b0adf0c9dc3ff008863028f68dd74fc23a4"
   }
  }
 },
 "nbformat": 4,
 "nbformat_minor": 2
}
